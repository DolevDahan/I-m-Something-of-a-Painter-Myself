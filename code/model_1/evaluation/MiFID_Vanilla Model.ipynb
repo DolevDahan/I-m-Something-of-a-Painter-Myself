{
 "cells": [
  {
   "cell_type": "code",
   "id": "initial_id",
   "metadata": {
    "collapsed": true,
    "ExecuteTime": {
     "end_time": "2025-07-09T11:17:11.043266Z",
     "start_time": "2025-07-09T11:17:07.855895Z"
    }
   },
   "source": [
    "from __future__ import absolute_import, division, print_function\n",
    "import numpy as np\n",
    "import os\n",
    "import gzip, pickle\n",
    "import tensorflow as tf\n",
    "from scipy import linalg\n",
    "import pathlib\n",
    "import urllib\n",
    "import warnings\n",
    "from tqdm import tqdm\n",
    "from PIL import Image\n",
    "\n",
    "class KernelEvalException(Exception):\n",
    "    pass\n",
    "\n",
    "model_params = {\n",
    "    'Inception': {\n",
    "        'name': 'Inception',\n",
    "        'imsize': 256,\n",
    "        'output_layer': 'Pretrained_Net/pool_3:0',\n",
    "        'input_layer': 'Pretrained_Net/ExpandDims:0',\n",
    "        'output_shape': 2048,\n",
    "        'cosine_distance_eps': 0.1\n",
    "        }\n",
    "}\n",
    "\n",
    "def create_model_graph(pth):\n",
    "    \"\"\"Creates a graph from saved GraphDef file.\"\"\"\n",
    "    # Creates graph from saved graph_def.pb.\n",
    "    with tf.gfile.FastGFile( pth, 'rb') as f:\n",
    "        graph_def = tf.GraphDef()\n",
    "        graph_def.ParseFromString( f.read())\n",
    "        _ = tf.import_graph_def( graph_def, name='Pretrained_Net')\n",
    "\n",
    "def _get_model_layer(sess, model_name):\n",
    "    # layername = 'Pretrained_Net/final_layer/Mean:0'\n",
    "    layername = model_params[model_name]['output_layer']\n",
    "    layer = sess.graph.get_tensor_by_name(layername)\n",
    "    ops = layer.graph.get_operations()\n",
    "    for op_idx, op in enumerate(ops):\n",
    "        for o in op.outputs:\n",
    "            shape = o.get_shape()\n",
    "            if shape._dims != []:\n",
    "              shape = [s.value for s in shape]\n",
    "              new_shape = []\n",
    "              for j, s in enumerate(shape):\n",
    "                if s == 1 and j == 0:\n",
    "                  new_shape.append(None)\n",
    "                else:\n",
    "                  new_shape.append(s)\n",
    "              o.__dict__['_shape_val'] = tf.TensorShape(new_shape)\n",
    "    return layer\n",
    "\n",
    "def get_activations(images, sess, model_name, batch_size=50, verbose=False):\n",
    "    \"\"\"Calculates the activations of the pool_3 layer for all images.\n",
    "\n",
    "    Params:\n",
    "    -- images      : Numpy array of dimension (n_images, hi, wi, 3). The values\n",
    "                     must lie between 0 and 256.\n",
    "    -- sess        : current session\n",
    "    -- batch_size  : the images numpy array is split into batches with batch size\n",
    "                     batch_size. A reasonable batch size depends on the disposable hardware.\n",
    "    -- verbose    : If set to True and parameter out_step is given, the number of calculated\n",
    "                     batches is reported.\n",
    "    Returns:\n",
    "    -- A numpy array of dimension (num images, 2048) that contains the\n",
    "       activations of the given tensor when feeding inception with the query tensor.\n",
    "    \"\"\"\n",
    "    inception_layer = _get_model_layer(sess, model_name)\n",
    "    n_images = images.shape[0]\n",
    "    if batch_size > n_images:\n",
    "        print(\"warning: batch size is bigger than the data size. setting batch size to data size\")\n",
    "        batch_size = n_images\n",
    "    n_batches = n_images//batch_size + 1\n",
    "    pred_arr = np.empty((n_images,model_params[model_name]['output_shape']))\n",
    "    for i in tqdm(range(n_batches)):\n",
    "        if verbose:\n",
    "            print(\"\\rPropagating batch %d/%d\" % (i+1, n_batches), end=\"\", flush=True)\n",
    "        start = i*batch_size\n",
    "        if start+batch_size < n_images:\n",
    "            end = start+batch_size\n",
    "        else:\n",
    "            end = n_images\n",
    "\n",
    "        batch = images[start:end]\n",
    "        pred = sess.run(inception_layer, {model_params[model_name]['input_layer']: batch})\n",
    "        pred_arr[start:end] = pred.reshape(-1,model_params[model_name]['output_shape'])\n",
    "    if verbose:\n",
    "        print(\" done\")\n",
    "    return pred_arr\n",
    "\n",
    "\n",
    "# def calculate_memorization_distance(features1, features2):\n",
    "#     neigh = NearestNeighbors(n_neighbors=1, algorithm='kd_tree', metric='euclidean')\n",
    "#     neigh.fit(features2)\n",
    "#     d, _ = neigh.kneighbors(features1, return_distance=True)\n",
    "#     print('d.shape=',d.shape)\n",
    "#     return np.mean(d)\n",
    "\n",
    "def normalize_rows(x: np.ndarray):\n",
    "    \"\"\"\n",
    "    function that normalizes each row of the matrix x to have unit length.\n",
    "\n",
    "    Args:\n",
    "     ``x``: A numpy matrix of shape (n, m)\n",
    "\n",
    "    Returns:\n",
    "     ``x``: The normalized (by row) numpy matrix.\n",
    "    \"\"\"\n",
    "    return np.nan_to_num(x/np.linalg.norm(x, ord=2, axis=1, keepdims=True))\n",
    "\n",
    "\n",
    "def cosine_distance(features1, features2):\n",
    "    features1_nozero = features1[np.sum(features1, axis=1) != 0]\n",
    "    features2_nozero = features2[np.sum(features2, axis=1) != 0]\n",
    "    norm_f1 = normalize_rows(features1_nozero)\n",
    "    norm_f2 = normalize_rows(features2_nozero)\n",
    "\n",
    "    d = 1.0-np.abs(np.matmul(norm_f1, norm_f2.T))\n",
    "    print('d.shape=',d.shape)\n",
    "    print('np.min(d, axis=1).shape=',np.min(d, axis=1).shape)\n",
    "    mean_min_d = np.mean(np.min(d, axis=1))\n",
    "    print('distance=',mean_min_d)\n",
    "    return mean_min_d\n",
    "\n",
    "\n",
    "def distance_thresholding(d, eps):\n",
    "    if d < eps:\n",
    "        return d\n",
    "    else:\n",
    "        return 1\n",
    "\n",
    "def calculate_frechet_distance(mu1, sigma1, mu2, sigma2, eps=1e-6):\n",
    "    \"\"\"Numpy implementation of the Frechet Distance.\n",
    "    The Frechet distance between two multivariate Gaussians X_1 ~ N(mu_1, C_1)\n",
    "    and X_2 ~ N(mu_2, C_2) is\n",
    "            d^2 = ||mu_1 - mu_2||^2 + Tr(C_1 + C_2 - 2*sqrt(C_1*C_2)).\n",
    "\n",
    "    Stable version by Dougal J. Sutherland.\n",
    "\n",
    "    Params:\n",
    "    -- mu1 : Numpy array containing the activations of the pool_3 layer of the\n",
    "             inception net ( like returned by the function 'get_predictions')\n",
    "             for generated samples.\n",
    "    -- mu2   : The sample mean over activations of the pool_3 layer, precalcualted\n",
    "               on an representive data set.\n",
    "    -- sigma1: The covariance matrix over activations of the pool_3 layer for\n",
    "               generated samples.\n",
    "    -- sigma2: The covariance matrix over activations of the pool_3 layer,\n",
    "               precalcualted on an representive data set.\n",
    "\n",
    "    Returns:\n",
    "    --   : The Frechet Distance.\n",
    "    \"\"\"\n",
    "\n",
    "    mu1 = np.atleast_1d(mu1)\n",
    "    mu2 = np.atleast_1d(mu2)\n",
    "\n",
    "    sigma1 = np.atleast_2d(sigma1)\n",
    "    sigma2 = np.atleast_2d(sigma2)\n",
    "\n",
    "    assert mu1.shape == mu2.shape, \"Training and test mean vectors have different lengths\"\n",
    "    assert sigma1.shape == sigma2.shape, \"Training and test covariances have different dimensions\"\n",
    "\n",
    "    diff = mu1 - mu2\n",
    "\n",
    "    # product might be almost singular\n",
    "    covmean, _ = linalg.sqrtm(sigma1.dot(sigma2), disp=False)\n",
    "    if not np.isfinite(covmean).all():\n",
    "        msg = \"fid calculation produces singular product; adding %s to diagonal of cov estimates\" % eps\n",
    "        warnings.warn(msg)\n",
    "        offset = np.eye(sigma1.shape[0]) * eps\n",
    "        covmean = linalg.sqrtm((sigma1 + offset).dot(sigma2 + offset))\n",
    "\n",
    "    # numerical error might give slight imaginary component\n",
    "    if np.iscomplexobj(covmean):\n",
    "        if not np.allclose(np.diagonal(covmean).imag, 0, atol=1e-3):\n",
    "            m = np.max(np.abs(covmean.imag))\n",
    "            raise ValueError(\"Imaginary component {}\".format(m))\n",
    "        covmean = covmean.real\n",
    "\n",
    "    print('covmean.shape=',covmean.shape)\n",
    "\n",
    "    tr_covmean = np.trace(covmean)\n",
    "    return diff.dot(diff) + np.trace(sigma1) + np.trace(sigma2) - 2 * tr_covmean\n",
    "\n",
    "def calculate_activation_statistics(images, sess, model_name, batch_size=50, verbose=False):\n",
    "    \"\"\"Calculation of the statistics used by the FID.\n",
    "    Params:\n",
    "    -- images      : Numpy array of dimension (n_images, hi, wi, 3). The values\n",
    "                     must lie between 0 and 255.\n",
    "    -- sess        : current session\n",
    "    -- batch_size  : the images numpy array is split into batches with batch size\n",
    "                     batch_size. A reasonable batch size depends on the available hardware.\n",
    "    -- verbose     : If set to True and parameter out_step is given, the number of calculated\n",
    "                     batches is reported.\n",
    "    Returns:\n",
    "    -- mu    : The mean over samples of the activations of the pool_3 layer of\n",
    "               the incption model.\n",
    "    -- sigma : The covariance matrix of the activations of the pool_3 layer of\n",
    "               the incption model.\n",
    "    \"\"\"\n",
    "    act = get_activations(images, sess, model_name, batch_size, verbose)\n",
    "    mu = np.mean(act, axis=0)\n",
    "    sigma = np.cov(act, rowvar=False)\n",
    "    return mu, sigma, act\n",
    "\n",
    "def _handle_path_memorization(path, sess, model_name, is_checksize, is_check_png):\n",
    "    path = pathlib.Path(path)\n",
    "    files = list(path.glob('*.jpg')) + list(path.glob('*.png'))\n",
    "    imsize = model_params[model_name]['imsize']\n",
    "\n",
    "    # In production we don't resize input images. This is just for demo purpose.\n",
    "    x = np.array([np.array(img_read_checks(fn, imsize, is_checksize, imsize, is_check_png)) for fn in files])\n",
    "    m, s, features = calculate_activation_statistics(x, sess, model_name)\n",
    "    del x #clean up memory\n",
    "    return m, s, features\n",
    "\n",
    "# check for image size\n",
    "def img_read_checks(filename, resize_to, is_checksize=False, check_imsize = 256, is_check_png = False):\n",
    "    im = Image.open(str(filename))\n",
    "    if is_checksize and im.size != (check_imsize,check_imsize):\n",
    "        raise KernelEvalException('The images are not of size '+str(check_imsize))\n",
    "\n",
    "    if is_check_png and im.format != 'PNG':\n",
    "        raise KernelEvalException('Only PNG images should be submitted.')\n",
    "\n",
    "    if resize_to is None:\n",
    "        return im\n",
    "    else:\n",
    "        return im.resize((resize_to,resize_to),Image.ANTIALIAS)\n",
    "\n",
    "def calculate_kid_given_paths(paths, model_name, model_path, feature_path=None):\n",
    "    ''' Calculates the KID of two paths. '''\n",
    "    tf.reset_default_graph()\n",
    "    create_model_graph(str(model_path))\n",
    "    with tf.Session() as sess:\n",
    "        sess.run(tf.global_variables_initializer())\n",
    "        m1, s1, features1 = _handle_path_memorization(paths[0], sess, model_name, is_checksize = False, is_check_png = False)\n",
    "        if feature_path is None:\n",
    "            m2, s2, features2 = _handle_path_memorization(paths[1], sess, model_name, is_checksize = False, is_check_png = False)\n",
    "        else:\n",
    "            with np.load(feature_path) as f:\n",
    "                m2, s2, features2 = f['m'], f['s'], f['features']\n",
    "\n",
    "        print('m1,m2 shape=',(m1.shape,m2.shape),'s1,s2=',(s1.shape,s2.shape))\n",
    "        print('starting calculating FID')\n",
    "        fid_value = calculate_frechet_distance(m1, s1, m2, s2)\n",
    "        print('done with FID, starting distance calculation')\n",
    "        distance = cosine_distance(features1, features2)\n",
    "        return fid_value, distance"
   ],
   "outputs": [],
   "execution_count": 1
  },
  {
   "metadata": {},
   "cell_type": "markdown",
   "source": "#### Seed=42",
   "id": "c88753257bec537a"
  },
  {
   "metadata": {
    "ExecuteTime": {
     "end_time": "2025-07-09T09:48:53.589119Z",
     "start_time": "2025-07-09T09:48:53.573496Z"
    }
   },
   "cell_type": "code",
   "source": [
    "user_images_path = r'C:\\Users\\davidovr\\Downloads\\generated_images_vanilla_model_seed_42'\n",
    "real_images_path = r'C:\\Users\\davidovr\\Downloads\\monet_test_files\\monet_test_jpg'\n",
    "\n",
    "images_path = [user_images_path, real_images_path]"
   ],
   "id": "ab9de85d4f807a05",
   "outputs": [],
   "execution_count": 2
  },
  {
   "metadata": {
    "ExecuteTime": {
     "end_time": "2025-07-09T09:48:53.652041Z",
     "start_time": "2025-07-09T09:48:53.636481Z"
    }
   },
   "cell_type": "code",
   "source": "public_path = r\"C:\\Users\\davidovr\\Downloads\\inception-2015-12-05\\classify_image_graph_def.pb\"",
   "id": "6a506125a51eeccc",
   "outputs": [],
   "execution_count": 3
  },
  {
   "metadata": {
    "ExecuteTime": {
     "end_time": "2025-07-09T09:59:52.343378Z",
     "start_time": "2025-07-09T09:48:53.714180Z"
    }
   },
   "cell_type": "code",
   "source": "fid_value_public, distance_public = calculate_kid_given_paths(images_path, 'Inception', public_path)",
   "id": "30399ae144cae0ec",
   "outputs": [
    {
     "name": "stdout",
     "output_type": "stream",
     "text": [
      "WARNING:tensorflow:From C:\\Users\\davidovr\\AppData\\Local\\Temp\\ipykernel_20584\\1078652768.py:235: The name tf.reset_default_graph is deprecated. Please use tf.compat.v1.reset_default_graph instead.\n",
      "\n",
      "WARNING:tensorflow:From C:\\Users\\davidovr\\AppData\\Local\\Temp\\ipykernel_20584\\1078652768.py:30: FastGFile.__init__ (from tensorflow.python.platform.gfile) is deprecated and will be removed in a future version.\n",
      "Instructions for updating:\n",
      "Use tf.gfile.GFile.\n",
      "WARNING:tensorflow:From C:\\Users\\davidovr\\AppData\\Local\\Temp\\ipykernel_20584\\1078652768.py:31: The name tf.GraphDef is deprecated. Please use tf.compat.v1.GraphDef instead.\n",
      "\n",
      "WARNING:tensorflow:From C:\\Users\\davidovr\\AppData\\Local\\Temp\\ipykernel_20584\\1078652768.py:237: The name tf.Session is deprecated. Please use tf.compat.v1.Session instead.\n",
      "\n",
      "WARNING:tensorflow:From C:\\Users\\davidovr\\AppData\\Local\\Temp\\ipykernel_20584\\1078652768.py:238: The name tf.global_variables_initializer is deprecated. Please use tf.compat.v1.global_variables_initializer instead.\n",
      "\n"
     ]
    },
    {
     "name": "stderr",
     "output_type": "stream",
     "text": [
      "C:\\Users\\davidovr\\.conda\\envs\\mifid_env\\lib\\site-packages\\ipykernel_launcher.py:231: DeprecationWarning: ANTIALIAS is deprecated and will be removed in Pillow 10 (2023-07-01). Use LANCZOS or Resampling.LANCZOS instead.\n",
      "100%|██████████| 141/141 [09:18<00:00,  3.96s/it]\n",
      "100%|██████████| 18/18 [01:19<00:00,  4.39s/it]\n"
     ]
    },
    {
     "name": "stdout",
     "output_type": "stream",
     "text": [
      "m1,m2 shape= ((2048,), (2048,)) s1,s2= ((2048, 2048), (2048, 2048))\n",
      "starting calculating FID\n",
      "covmean.shape= (2048, 2048)\n",
      "done with FID, starting distance calculation\n",
      "d.shape= (7038, 893)\n",
      "np.min(d, axis=1).shape= (7038,)\n",
      "distance= 0.26088995192486614\n"
     ]
    }
   ],
   "execution_count": 4
  },
  {
   "metadata": {
    "ExecuteTime": {
     "end_time": "2025-07-09T10:07:19.286032Z",
     "start_time": "2025-07-09T10:07:19.270404Z"
    }
   },
   "cell_type": "code",
   "source": "distance_public = distance_thresholding(distance_public, model_params['Inception']['cosine_distance_eps'])\n",
   "id": "2973134799e82fc",
   "outputs": [],
   "execution_count": 6
  },
  {
   "metadata": {
    "ExecuteTime": {
     "end_time": "2025-07-09T10:07:25.848746Z",
     "start_time": "2025-07-09T10:07:25.833120Z"
    }
   },
   "cell_type": "code",
   "source": [
    "fid_epsilon = 10e-15\n",
    "\n",
    "print(\"FID: \", fid_value_public, \"distance_public: \", distance_public, \"multiplied_public: \", fid_value_public /(distance_public + fid_epsilon))"
   ],
   "id": "27e91bb896ccf13a",
   "outputs": [
    {
     "name": "stdout",
     "output_type": "stream",
     "text": [
      "FID:  96.00834969890082 distance_public:  1 multiplied_public:  96.00834969889985\n"
     ]
    }
   ],
   "execution_count": 7
  },
  {
   "metadata": {
    "ExecuteTime": {
     "end_time": "2025-07-09T10:07:30.113943Z",
     "start_time": "2025-07-09T10:07:30.098295Z"
    }
   },
   "cell_type": "code",
   "source": "print(\"MiFID (Seed 42) :\",fid_value_public /(distance_public + fid_epsilon))",
   "id": "62c25f238ce659a0",
   "outputs": [
    {
     "name": "stdout",
     "output_type": "stream",
     "text": [
      "MiFID (Seed 42) : 96.00834969889985\n"
     ]
    }
   ],
   "execution_count": 8
  },
  {
   "metadata": {
    "ExecuteTime": {
     "end_time": "2025-07-09T10:07:39.098468Z",
     "start_time": "2025-07-09T10:07:39.077477Z"
    }
   },
   "cell_type": "code",
   "source": [
    "import json\n",
    "\n",
    "mifid_score_42 = fid_value_public / (distance_public + fid_epsilon)\n",
    "\n",
    "data = {\"MiFID\": mifid_score_42}\n",
    "\n",
    "with open(\"mifid_results_42.json\", \"w\") as f:\n",
    "    json.dump(data, f, indent=4)\n",
    "\n",
    "print(\"MiFID saved to mifid_results_42.json\")"
   ],
   "id": "b0cc1c6d8f07dd1a",
   "outputs": [
    {
     "name": "stdout",
     "output_type": "stream",
     "text": [
      "MiFID saved to mifid_results_42.json\n"
     ]
    }
   ],
   "execution_count": 9
  },
  {
   "metadata": {},
   "cell_type": "markdown",
   "source": "#### seed=123",
   "id": "412c4dbe88bbd887"
  },
  {
   "metadata": {
    "ExecuteTime": {
     "end_time": "2025-07-09T11:17:14.387175Z",
     "start_time": "2025-07-09T11:17:14.371520Z"
    }
   },
   "cell_type": "code",
   "source": [
    "user_images_path = r'C:\\Users\\davidovr\\Downloads\\generated_images_vanilla_model_seed_123'\n",
    "real_images_path = r'C:\\Users\\davidovr\\Downloads\\monet_test_files\\monet_test_jpg'\n",
    "\n",
    "images_path = [user_images_path, real_images_path]"
   ],
   "id": "c2e20f38625acb2c",
   "outputs": [],
   "execution_count": 2
  },
  {
   "metadata": {
    "ExecuteTime": {
     "end_time": "2025-07-09T11:17:15.152566Z",
     "start_time": "2025-07-09T11:17:15.136942Z"
    }
   },
   "cell_type": "code",
   "source": "public_path = r\"C:\\Users\\davidovr\\Downloads\\inception-2015-12-05\\classify_image_graph_def.pb\"",
   "id": "10a913dc1d63c83b",
   "outputs": [],
   "execution_count": 3
  },
  {
   "metadata": {
    "ExecuteTime": {
     "end_time": "2025-07-09T11:26:03.696522Z",
     "start_time": "2025-07-09T11:17:16.793218Z"
    }
   },
   "cell_type": "code",
   "source": "fid_value_public, distance_public = calculate_kid_given_paths(images_path, 'Inception', public_path)",
   "id": "6ebd3f437c70d44d",
   "outputs": [
    {
     "name": "stdout",
     "output_type": "stream",
     "text": [
      "WARNING:tensorflow:From C:\\Users\\davidovr\\AppData\\Local\\Temp\\ipykernel_10244\\1078652768.py:235: The name tf.reset_default_graph is deprecated. Please use tf.compat.v1.reset_default_graph instead.\n",
      "\n",
      "WARNING:tensorflow:From C:\\Users\\davidovr\\AppData\\Local\\Temp\\ipykernel_10244\\1078652768.py:30: FastGFile.__init__ (from tensorflow.python.platform.gfile) is deprecated and will be removed in a future version.\n",
      "Instructions for updating:\n",
      "Use tf.gfile.GFile.\n",
      "WARNING:tensorflow:From C:\\Users\\davidovr\\AppData\\Local\\Temp\\ipykernel_10244\\1078652768.py:31: The name tf.GraphDef is deprecated. Please use tf.compat.v1.GraphDef instead.\n",
      "\n",
      "WARNING:tensorflow:From C:\\Users\\davidovr\\AppData\\Local\\Temp\\ipykernel_10244\\1078652768.py:237: The name tf.Session is deprecated. Please use tf.compat.v1.Session instead.\n",
      "\n",
      "WARNING:tensorflow:From C:\\Users\\davidovr\\AppData\\Local\\Temp\\ipykernel_10244\\1078652768.py:238: The name tf.global_variables_initializer is deprecated. Please use tf.compat.v1.global_variables_initializer instead.\n",
      "\n"
     ]
    },
    {
     "name": "stderr",
     "output_type": "stream",
     "text": [
      "C:\\Users\\davidovr\\.conda\\envs\\mifid_env\\lib\\site-packages\\ipykernel_launcher.py:231: DeprecationWarning: ANTIALIAS is deprecated and will be removed in Pillow 10 (2023-07-01). Use LANCZOS or Resampling.LANCZOS instead.\n",
      "100%|██████████| 141/141 [07:34<00:00,  3.23s/it]\n",
      "100%|██████████| 18/18 [00:55<00:00,  3.09s/it]\n"
     ]
    },
    {
     "name": "stdout",
     "output_type": "stream",
     "text": [
      "m1,m2 shape= ((2048,), (2048,)) s1,s2= ((2048, 2048), (2048, 2048))\n",
      "starting calculating FID\n",
      "covmean.shape= (2048, 2048)\n",
      "done with FID, starting distance calculation\n",
      "d.shape= (7038, 893)\n",
      "np.min(d, axis=1).shape= (7038,)\n",
      "distance= 0.2605303421710356\n"
     ]
    }
   ],
   "execution_count": 4
  },
  {
   "metadata": {
    "ExecuteTime": {
     "end_time": "2025-07-09T13:08:15.942269Z",
     "start_time": "2025-07-09T13:08:15.926644Z"
    }
   },
   "cell_type": "code",
   "source": "distance_public = distance_thresholding(distance_public, model_params['Inception']['cosine_distance_eps'])",
   "id": "6e566a7e8468c66a",
   "outputs": [],
   "execution_count": 6
  },
  {
   "metadata": {
    "ExecuteTime": {
     "end_time": "2025-07-09T13:08:12.957549Z",
     "start_time": "2025-07-09T13:08:12.941982Z"
    }
   },
   "cell_type": "code",
   "source": [
    "fid_epsilon = 10e-15\n",
    "\n",
    "print(\"FID: \", fid_value_public, \"distance_public: \", distance_public, \"multiplied_public: \", fid_value_public /(distance_public + fid_epsilon))"
   ],
   "id": "8b8a809ba97c624c",
   "outputs": [
    {
     "name": "stdout",
     "output_type": "stream",
     "text": [
      "FID:  87.59330959594729 distance_public:  0.2605303421710356 multiplied_public:  336.2115478220951\n"
     ]
    }
   ],
   "execution_count": 5
  },
  {
   "metadata": {
    "ExecuteTime": {
     "end_time": "2025-07-09T13:08:21.176202Z",
     "start_time": "2025-07-09T13:08:21.160997Z"
    }
   },
   "cell_type": "code",
   "source": "print(\"MiFID (Seed 123) :\",fid_value_public /(distance_public + fid_epsilon))\n",
   "id": "7e59b0cfc0e70e68",
   "outputs": [
    {
     "name": "stdout",
     "output_type": "stream",
     "text": [
      "MiFID (Seed 123) : 87.59330959594641\n"
     ]
    }
   ],
   "execution_count": 7
  },
  {
   "metadata": {
    "ExecuteTime": {
     "end_time": "2025-07-09T13:08:32.129143Z",
     "start_time": "2025-07-09T13:08:32.113518Z"
    }
   },
   "cell_type": "code",
   "source": [
    "import json\n",
    "\n",
    "mifid_score_123 = fid_value_public / (distance_public + fid_epsilon)\n",
    "\n",
    "data = {\"MiFID\": mifid_score_123}\n",
    "\n",
    "with open(\"mifid_results_123.json\", \"w\") as f:\n",
    "    json.dump(data, f, indent=4)\n",
    "\n",
    "print(\"MiFID saved to mifid_results_123.json\")"
   ],
   "id": "ae3d6fb8adc5c8bd",
   "outputs": [
    {
     "name": "stdout",
     "output_type": "stream",
     "text": [
      "MiFID saved to mifid_results_123.json\n"
     ]
    }
   ],
   "execution_count": 8
  },
  {
   "metadata": {},
   "cell_type": "markdown",
   "source": "#### seed=2025",
   "id": "1d621a3807b3aca3"
  },
  {
   "metadata": {
    "ExecuteTime": {
     "end_time": "2025-07-09T10:17:29.844849Z",
     "start_time": "2025-07-09T10:17:29.829221Z"
    }
   },
   "cell_type": "code",
   "source": [
    "user_images_path = r'C:\\Users\\davidovr\\Downloads\\generated_images_vanilla_model_seed_2025'\n",
    "real_images_path = r'C:\\Users\\davidovr\\Downloads\\monet_test_files\\monet_test_jpg'\n",
    "\n",
    "images_path = [user_images_path, real_images_path]"
   ],
   "id": "7bfe4db0fea2f0f",
   "outputs": [],
   "execution_count": 2
  },
  {
   "metadata": {
    "ExecuteTime": {
     "end_time": "2025-07-09T10:17:30.517589Z",
     "start_time": "2025-07-09T10:17:30.501375Z"
    }
   },
   "cell_type": "code",
   "source": "public_path = r\"C:\\Users\\davidovr\\Downloads\\inception-2015-12-05\\classify_image_graph_def.pb\"\n",
   "id": "880757fcc2b3c31a",
   "outputs": [],
   "execution_count": 3
  },
  {
   "metadata": {
    "ExecuteTime": {
     "end_time": "2025-07-09T10:26:32.248001Z",
     "start_time": "2025-07-09T10:17:31.985820Z"
    }
   },
   "cell_type": "code",
   "source": "fid_value_public, distance_public = calculate_kid_given_paths(images_path, 'Inception', public_path)",
   "id": "44cfd27c78b75f1a",
   "outputs": [
    {
     "name": "stdout",
     "output_type": "stream",
     "text": [
      "WARNING:tensorflow:From C:\\Users\\davidovr\\AppData\\Local\\Temp\\ipykernel_8628\\1078652768.py:235: The name tf.reset_default_graph is deprecated. Please use tf.compat.v1.reset_default_graph instead.\n",
      "\n",
      "WARNING:tensorflow:From C:\\Users\\davidovr\\AppData\\Local\\Temp\\ipykernel_8628\\1078652768.py:30: FastGFile.__init__ (from tensorflow.python.platform.gfile) is deprecated and will be removed in a future version.\n",
      "Instructions for updating:\n",
      "Use tf.gfile.GFile.\n",
      "WARNING:tensorflow:From C:\\Users\\davidovr\\AppData\\Local\\Temp\\ipykernel_8628\\1078652768.py:31: The name tf.GraphDef is deprecated. Please use tf.compat.v1.GraphDef instead.\n",
      "\n",
      "WARNING:tensorflow:From C:\\Users\\davidovr\\AppData\\Local\\Temp\\ipykernel_8628\\1078652768.py:237: The name tf.Session is deprecated. Please use tf.compat.v1.Session instead.\n",
      "\n",
      "WARNING:tensorflow:From C:\\Users\\davidovr\\AppData\\Local\\Temp\\ipykernel_8628\\1078652768.py:238: The name tf.global_variables_initializer is deprecated. Please use tf.compat.v1.global_variables_initializer instead.\n",
      "\n"
     ]
    },
    {
     "name": "stderr",
     "output_type": "stream",
     "text": [
      "C:\\Users\\davidovr\\.conda\\envs\\mifid_env\\lib\\site-packages\\ipykernel_launcher.py:231: DeprecationWarning: ANTIALIAS is deprecated and will be removed in Pillow 10 (2023-07-01). Use LANCZOS or Resampling.LANCZOS instead.\n",
      "100%|██████████| 141/141 [07:43<00:00,  3.29s/it]\n",
      "100%|██████████| 18/18 [01:00<00:00,  3.34s/it]\n"
     ]
    },
    {
     "name": "stdout",
     "output_type": "stream",
     "text": [
      "m1,m2 shape= ((2048,), (2048,)) s1,s2= ((2048, 2048), (2048, 2048))\n",
      "starting calculating FID\n",
      "covmean.shape= (2048, 2048)\n",
      "done with FID, starting distance calculation\n",
      "d.shape= (7038, 893)\n",
      "np.min(d, axis=1).shape= (7038,)\n",
      "distance= 0.2554432919826524\n"
     ]
    }
   ],
   "execution_count": 4
  },
  {
   "metadata": {
    "ExecuteTime": {
     "end_time": "2025-07-09T10:27:16.654316Z",
     "start_time": "2025-07-09T10:27:16.634161Z"
    }
   },
   "cell_type": "code",
   "source": "distance_public = distance_thresholding(distance_public, model_params['Inception']['cosine_distance_eps'])\n",
   "id": "8c28d598626ed299",
   "outputs": [],
   "execution_count": 6
  },
  {
   "metadata": {
    "ExecuteTime": {
     "end_time": "2025-07-09T10:27:18.091633Z",
     "start_time": "2025-07-09T10:27:18.062997Z"
    }
   },
   "cell_type": "code",
   "source": [
    "fid_epsilon = 10e-15\n",
    "\n",
    "print(\"FID: \", fid_value_public, \"distance_public: \", distance_public, \"multiplied_public: \", fid_value_public /(distance_public + fid_epsilon))"
   ],
   "id": "bf9e08930ae62e00",
   "outputs": [
    {
     "name": "stdout",
     "output_type": "stream",
     "text": [
      "FID:  91.00919885585444 distance_public:  1 multiplied_public:  91.00919885585353\n"
     ]
    }
   ],
   "execution_count": 7
  },
  {
   "metadata": {
    "ExecuteTime": {
     "end_time": "2025-07-09T10:27:21.279230Z",
     "start_time": "2025-07-09T10:27:21.258092Z"
    }
   },
   "cell_type": "code",
   "source": "print(\"MiFID (Seed 2025) :\",fid_value_public /(distance_public + fid_epsilon))\n",
   "id": "6f650780caf54d50",
   "outputs": [
    {
     "name": "stdout",
     "output_type": "stream",
     "text": [
      "MiFID (Seed 2025) : 91.00919885585353\n"
     ]
    }
   ],
   "execution_count": 8
  },
  {
   "metadata": {
    "ExecuteTime": {
     "end_time": "2025-07-09T10:27:24.575936Z",
     "start_time": "2025-07-09T10:27:24.560429Z"
    }
   },
   "cell_type": "code",
   "source": [
    "import json\n",
    "\n",
    "mifid_score_2025 = fid_value_public / (distance_public + fid_epsilon)\n",
    "\n",
    "data = {\"MiFID\": mifid_score_2025}\n",
    "\n",
    "with open(\"mifid_results_123.json\", \"w\") as f:\n",
    "    json.dump(data, f, indent=4)\n",
    "\n",
    "print(\"MiFID saved to mifid_results_123.json\")"
   ],
   "id": "39dba85adbc18c64",
   "outputs": [
    {
     "name": "stdout",
     "output_type": "stream",
     "text": [
      "MiFID saved to mifid_results_123.json\n"
     ]
    }
   ],
   "execution_count": 9
  },
  {
   "metadata": {},
   "cell_type": "code",
   "outputs": [],
   "execution_count": null,
   "source": "",
   "id": "b63930122a5222c0"
  }
 ],
 "metadata": {
  "kernelspec": {
   "display_name": "Python 3",
   "language": "python",
   "name": "python3"
  },
  "language_info": {
   "codemirror_mode": {
    "name": "ipython",
    "version": 2
   },
   "file_extension": ".py",
   "mimetype": "text/x-python",
   "name": "python",
   "nbconvert_exporter": "python",
   "pygments_lexer": "ipython2",
   "version": "2.7.6"
  }
 },
 "nbformat": 4,
 "nbformat_minor": 5
}
